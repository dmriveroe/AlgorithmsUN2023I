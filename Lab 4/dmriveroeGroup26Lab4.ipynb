{
  "cells": [
    {
      "cell_type": "markdown",
      "metadata": {
        "id": "7AVC6b_E-zvK"
      },
      "source": [
        "https://colab.research.google.com/drive/1rMdZoEr-oJNjjvDEgNQAQwbzyo7avi_P?usp=sharing"
      ]
    },
    {
      "cell_type": "markdown",
      "metadata": {
        "id": "N1ok_-56OjB1"
      },
      "source": [
        "# I Solving the Sum of Two Digits Programming Challenge"
      ]
    },
    {
      "cell_type": "markdown",
      "metadata": {
        "id": "MMY7kmDSO0KM"
      },
      "source": [
        "## C++"
      ]
    },
    {
      "cell_type": "code",
      "execution_count": null,
      "metadata": {
        "colab": {
          "base_uri": "https://localhost:8080/"
        },
        "id": "2pGGf9BkPNIk",
        "outputId": "1af015dd-0dd0-4f80-ef27-a3aa833a3d01"
      },
      "outputs": [
        {
          "name": "stdout",
          "output_type": "stream",
          "text": [
            "Writing APlusB.cpp\n"
          ]
        }
      ],
      "source": [
        "%%writefile APlusB.cpp\n",
        "#include <iostream>\n",
        "\n",
        "int sum_of_two_digits(int first_digit, int second_digit) {\n",
        "    return first_digit + second_digit;\n",
        "}\n",
        "\n",
        "int main() {\n",
        "    int a = 0;\n",
        "    int b = 0;\n",
        "    std::cin >> a;\n",
        "    std::cin >> b;\n",
        "    std::cout << sum_of_two_digits(a, b);\n",
        "    return 0;\n",
        "}"
      ]
    },
    {
      "cell_type": "code",
      "execution_count": null,
      "metadata": {
        "colab": {
          "base_uri": "https://localhost:8080/"
        },
        "id": "0G3ZKOYAPXSU",
        "outputId": "4bc9e19e-d4cd-4857-e423-8ee87e866c42"
      },
      "outputs": [
        {
          "name": "stdout",
          "output_type": "stream",
          "text": [
            "5 6\n",
            "11"
          ]
        }
      ],
      "source": [
        "!g++ APlusB.cpp -o APlusB\n",
        "!./APlusB"
      ]
    },
    {
      "cell_type": "markdown",
      "metadata": {
        "id": "iNkG2HqfTl9c"
      },
      "source": [
        "### Test input output files"
      ]
    },
    {
      "cell_type": "code",
      "execution_count": null,
      "metadata": {
        "colab": {
          "base_uri": "https://localhost:8080/"
        },
        "id": "aTzU2efzMxly",
        "outputId": "6cb7f2e9-7c18-4e16-89d6-88ad04f5c14a"
      },
      "outputs": [
        {
          "name": "stdout",
          "output_type": "stream",
          "text": [
            "Writing input1.txt\n"
          ]
        }
      ],
      "source": [
        "%%writefile input1.txt\n",
        "4 8"
      ]
    },
    {
      "cell_type": "code",
      "execution_count": null,
      "metadata": {
        "colab": {
          "base_uri": "https://localhost:8080/"
        },
        "id": "zBJ0Gc0NQRet",
        "outputId": "d434d95b-d3b3-49bf-c942-9bd68f12995e"
      },
      "outputs": [
        {
          "name": "stdout",
          "output_type": "stream",
          "text": [
            "Writing output1.txt\n"
          ]
        }
      ],
      "source": [
        "%%writefile output1.txt\n",
        "12"
      ]
    },
    {
      "cell_type": "code",
      "execution_count": null,
      "metadata": {
        "colab": {
          "base_uri": "https://localhost:8080/"
        },
        "id": "IjEcIx63PJAN",
        "outputId": "8555b89a-eeb3-4190-b1c5-a16357025dab"
      },
      "outputs": [
        {
          "name": "stdout",
          "output_type": "stream",
          "text": [
            "Writing input2.txt\n"
          ]
        }
      ],
      "source": [
        "%%writefile input2.txt\n",
        "-5 9"
      ]
    },
    {
      "cell_type": "code",
      "execution_count": null,
      "metadata": {
        "colab": {
          "base_uri": "https://localhost:8080/"
        },
        "id": "Up9gOrxURTmd",
        "outputId": "8699253c-be84-450b-864e-05a9870dd827"
      },
      "outputs": [
        {
          "name": "stdout",
          "output_type": "stream",
          "text": [
            "Writing output2.txt\n"
          ]
        }
      ],
      "source": [
        "%%writefile output2.txt\n",
        "4"
      ]
    },
    {
      "cell_type": "code",
      "execution_count": null,
      "metadata": {
        "colab": {
          "base_uri": "https://localhost:8080/"
        },
        "id": "PST6G-s-Pwgc",
        "outputId": "7eed4101-c4b9-4c21-bfae-324e0f899321"
      },
      "outputs": [
        {
          "name": "stdout",
          "output_type": "stream",
          "text": [
            "12"
          ]
        }
      ],
      "source": [
        "!./APlusB < input1.txt"
      ]
    },
    {
      "cell_type": "code",
      "execution_count": null,
      "metadata": {
        "colab": {
          "base_uri": "https://localhost:8080/"
        },
        "id": "cKxZOjSlRfIN",
        "outputId": "ee613398-e78d-4a80-ebdd-7c1c87e4dbd7"
      },
      "outputs": [
        {
          "name": "stdout",
          "output_type": "stream",
          "text": [
            "4"
          ]
        }
      ],
      "source": [
        "!./APlusB < input2.txt"
      ]
    },
    {
      "cell_type": "markdown",
      "metadata": {
        "id": "Qw2TQWCCUwqk"
      },
      "source": [
        "### Comparing files with grep\n",
        "\n",
        "https://askubuntu.com/questions/546796/comparing-two-text-files"
      ]
    },
    {
      "cell_type": "code",
      "execution_count": null,
      "metadata": {
        "id": "WVIaAmMKU4QM"
      },
      "outputs": [],
      "source": [
        "!grep -xvFf output1.txt output1.txt "
      ]
    },
    {
      "cell_type": "code",
      "execution_count": null,
      "metadata": {
        "colab": {
          "base_uri": "https://localhost:8080/"
        },
        "id": "MQU8gPPjQuYO",
        "outputId": "f6ceb6ba-7588-48a7-96a3-337c3008f608"
      },
      "outputs": [
        {
          "name": "stdout",
          "output_type": "stream",
          "text": [
            "4\n"
          ]
        }
      ],
      "source": [
        "!grep -xvFf output1.txt output2.txt "
      ]
    },
    {
      "cell_type": "code",
      "execution_count": null,
      "metadata": {
        "colab": {
          "base_uri": "https://localhost:8080/"
        },
        "id": "jYL9OuYBTD_l",
        "outputId": "0f02261f-9263-4956-b997-7f6740fe2d34"
      },
      "outputs": [
        {
          "name": "stdout",
          "output_type": "stream",
          "text": [
            "12\n"
          ]
        }
      ],
      "source": [
        "!grep -xvFf output2.txt output1.txt "
      ]
    },
    {
      "cell_type": "code",
      "execution_count": null,
      "metadata": {
        "id": "Jlja0Xm4TX9M"
      },
      "outputs": [],
      "source": [
        "!./APlusB < input1.txt> ctest1.txt\n",
        "!grep -xvFf output1.txt ctest1.txt"
      ]
    },
    {
      "cell_type": "code",
      "execution_count": null,
      "metadata": {
        "id": "g9OIUZA_QLCQ"
      },
      "outputs": [],
      "source": [
        "!./APlusB < input2.txt > ctest2.txt\n",
        "!grep -xvFf output2.txt ctest2.txt"
      ]
    },
    {
      "cell_type": "markdown",
      "metadata": {
        "id": "3BgOaDjUVJk6"
      },
      "source": [
        "## Python"
      ]
    },
    {
      "cell_type": "code",
      "execution_count": null,
      "metadata": {
        "colab": {
          "base_uri": "https://localhost:8080/"
        },
        "id": "DBvl-T0CTN_8",
        "outputId": "7e891bff-aea6-46e4-9cb0-3adad87294fe"
      },
      "outputs": [
        {
          "name": "stdout",
          "output_type": "stream",
          "text": [
            "Writing sum.py\n"
          ]
        }
      ],
      "source": [
        "%%writefile sum.py\n",
        "# python3\n",
        "\n",
        "def sum_of_two_digits(first_digit, second_digit):\n",
        "    return first_digit + second_digit\n",
        "\n",
        "if __name__ == '__main__':\n",
        "    a, b = map(int, input().split())\n",
        "    print(sum_of_two_digits(a, b))"
      ]
    },
    {
      "cell_type": "code",
      "execution_count": null,
      "metadata": {
        "colab": {
          "base_uri": "https://localhost:8080/"
        },
        "id": "QKoKM11_WGyF",
        "outputId": "2367d5c3-39db-4911-bb76-f71e27b57bea"
      },
      "outputs": [
        {
          "name": "stdout",
          "output_type": "stream",
          "text": [
            "8 5\n",
            "13\n"
          ]
        }
      ],
      "source": [
        "!python sum.py"
      ]
    },
    {
      "cell_type": "code",
      "execution_count": null,
      "metadata": {
        "id": "cocFbPRTWrqt"
      },
      "outputs": [],
      "source": [
        "!python sum.py  < input1.txt> ptest1.txt\n",
        "!grep -xvFf output1.txt ptest1.txt"
      ]
    },
    {
      "cell_type": "code",
      "execution_count": null,
      "metadata": {
        "id": "MorKTa-XXASN"
      },
      "outputs": [],
      "source": [
        "!python sum.py  < input2.txt> ptest2.txt\n",
        "!grep -xvFf output2.txt ptest2.txt"
      ]
    },
    {
      "cell_type": "markdown",
      "metadata": {
        "id": "uvP-mOubW_5F"
      },
      "source": [
        "# II Solving The Maximum Pairwise Product Programming Challenge in C++"
      ]
    },
    {
      "cell_type": "markdown",
      "metadata": {
        "id": "C12yoFR6Xonl"
      },
      "source": [
        "## C++"
      ]
    },
    {
      "cell_type": "code",
      "execution_count": null,
      "metadata": {
        "colab": {
          "base_uri": "https://localhost:8080/"
        },
        "id": "YL4qJX3tXxdd",
        "outputId": "811d24b8-d272-4ce0-8f33-ea247404f4a2"
      },
      "outputs": [
        {
          "name": "stdout",
          "output_type": "stream",
          "text": [
            "Writing max_pairwise_product.cpp\n"
          ]
        }
      ],
      "source": [
        "%%writefile max_pairwise_product.cpp\n",
        "#include <iostream>\n",
        "#include <vector>\n",
        "#include <algorithm>\n",
        "\n",
        "int MaxPairwiseProduct(const std::vector<int>& numbers) {\n",
        "    int max_product = 0;\n",
        "    int n = numbers.size();\n",
        "\n",
        "    for (int first = 0; first < n; ++first) {\n",
        "        for (int second = first + 1; second < n; ++second) {\n",
        "            max_product = std::max(max_product,\n",
        "                numbers[first] * numbers[second]);\n",
        "        }\n",
        "    }\n",
        "\n",
        "    return max_product;\n",
        "}\n",
        "\n",
        "int main() {\n",
        "    int n;\n",
        "    std::cin >> n;\n",
        "    std::vector<int> numbers(n);\n",
        "    for (int i = 0; i < n; ++i) {\n",
        "        std::cin >> numbers[i];\n",
        "    }\n",
        "\n",
        "    std::cout << MaxPairwiseProduct(numbers) << \"\\n\";\n",
        "    return 0;\n",
        "}\n"
      ]
    },
    {
      "cell_type": "code",
      "execution_count": null,
      "metadata": {
        "colab": {
          "base_uri": "https://localhost:8080/"
        },
        "id": "KGxaEjvWX__O",
        "outputId": "15253cc1-70a8-4dcd-bf3d-a2b874dcb312"
      },
      "outputs": [
        {
          "name": "stdout",
          "output_type": "stream",
          "text": [
            "6 \n",
            "5\n",
            "8\n",
            "5 8 \n",
            "^C\n"
          ]
        }
      ],
      "source": [
        "!g++ max_pairwise_product.cpp -o max_pairwise_product\n",
        "!./max_pairwise_product"
      ]
    },
    {
      "cell_type": "markdown",
      "metadata": {
        "id": "e7KhxHGNS3i0"
      },
      "source": [
        "### Test 1: Small numbers"
      ]
    },
    {
      "cell_type": "code",
      "execution_count": null,
      "metadata": {
        "colab": {
          "base_uri": "https://localhost:8080/"
        },
        "id": "e1mmTzBgShT-",
        "outputId": "c7ef7eb6-9ef5-486e-9af0-7807e40f9ebc"
      },
      "outputs": [
        {
          "name": "stdout",
          "output_type": "stream",
          "text": [
            "Overwriting input1.txt\n"
          ]
        }
      ],
      "source": [
        "%%writefile input1.txt\n",
        "10\n",
        "1 2 3 4 5 6 7 8 9 10"
      ]
    },
    {
      "cell_type": "code",
      "execution_count": null,
      "metadata": {
        "colab": {
          "base_uri": "https://localhost:8080/"
        },
        "id": "vy_uI0x7TCId",
        "outputId": "1ba18e35-e204-4481-80e5-082d2b3bef19"
      },
      "outputs": [
        {
          "name": "stdout",
          "output_type": "stream",
          "text": [
            "90\n"
          ]
        }
      ],
      "source": [
        "!./max_pairwise_product < input1.txt"
      ]
    },
    {
      "cell_type": "markdown",
      "metadata": {
        "id": "IeZ3kTjpYmR9"
      },
      "source": [
        "### Test 2: largest input numbers 200000 200000 in the input"
      ]
    },
    {
      "cell_type": "code",
      "execution_count": null,
      "metadata": {
        "colab": {
          "base_uri": "https://localhost:8080/"
        },
        "id": "LQNlZqaqYt7U",
        "outputId": "10356f1f-0af9-44ff-ca3d-9478366d1ca8"
      },
      "outputs": [
        {
          "name": "stdout",
          "output_type": "stream",
          "text": [
            "Overwriting input2.txt\n"
          ]
        }
      ],
      "source": [
        "%%writefile input2.txt\n",
        "6\n",
        "1 3 200000 9 200000 23"
      ]
    },
    {
      "cell_type": "code",
      "execution_count": null,
      "metadata": {
        "colab": {
          "base_uri": "https://localhost:8080/"
        },
        "id": "2Wad2VZUZDxR",
        "outputId": "7f187cb5-6fba-4c34-bb13-a8a1d29a8dcd"
      },
      "outputs": [
        {
          "name": "stdout",
          "output_type": "stream",
          "text": [
            "1345294336\n"
          ]
        }
      ],
      "source": [
        "!./max_pairwise_product < input2.txt"
      ]
    },
    {
      "cell_type": "markdown",
      "metadata": {
        "id": "H2SC0Qt5HCzz"
      },
      "source": [
        "Changing the variables to long long"
      ]
    },
    {
      "cell_type": "code",
      "execution_count": null,
      "metadata": {
        "colab": {
          "base_uri": "https://localhost:8080/"
        },
        "id": "MPcmsxiQZSfE",
        "outputId": "d4297d73-4f1d-4cdc-d069-2e9112dcab84"
      },
      "outputs": [
        {
          "name": "stdout",
          "output_type": "stream",
          "text": [
            "Writing max_pairwise_product_long.cpp\n"
          ]
        }
      ],
      "source": [
        "%%writefile max_pairwise_product_long.cpp\n",
        "#include <iostream>\n",
        "#include <vector>\n",
        "#include <algorithm>\n",
        "\n",
        "long long MaxPairwiseProduct(const std::vector<int>& numbers) {\n",
        "    long long max_product = 0LL;\n",
        "\t  long long aux_product = 0LL;\n",
        "    int n = numbers.size();\n",
        "\n",
        "    for (int first = 0; first < n; ++first) {\n",
        "        for (int second = first + 1; second < n; ++second) {\n",
        "\t\t\t       aux_product =  (long long) numbers[first] * numbers[second];\n",
        "            if ( max_product < aux_product)  {\n",
        "\t\t\t\t        max_product = aux_product;\n",
        "             }\n",
        "        }\n",
        "    }\n",
        "\n",
        "    return max_product;\n",
        "}\n",
        "\n",
        "int main() {\n",
        "    int n;\n",
        "    std::cin >> n;\n",
        "    std::vector<int> numbers(n);\n",
        "    for (int i = 0; i < n; ++i) {\n",
        "        std::cin >> numbers[i];\n",
        "    }\n",
        "\n",
        "    std::cout << MaxPairwiseProduct(numbers) << \"\\n\";\n",
        "    return 0;\n",
        "}\n"
      ]
    },
    {
      "cell_type": "code",
      "execution_count": null,
      "metadata": {
        "colab": {
          "base_uri": "https://localhost:8080/"
        },
        "id": "I5pCeOG1Zm7s",
        "outputId": "3e59a4d2-bf04-42d3-e886-7f2287edf09e"
      },
      "outputs": [
        {
          "name": "stdout",
          "output_type": "stream",
          "text": [
            "90\n",
            "40000000000\n"
          ]
        }
      ],
      "source": [
        "!g++ max_pairwise_product_long.cpp -o max_pairwise_product_long\n",
        "!./max_pairwise_product_long < input1.txt\n",
        "!./max_pairwise_product_long < input2.txt"
      ]
    },
    {
      "cell_type": "markdown",
      "metadata": {
        "id": "XPVHkHxH6_7s"
      },
      "source": [
        "### Test 3  stress tests 20  times  random n in [2, 20] "
      ]
    },
    {
      "cell_type": "code",
      "execution_count": null,
      "metadata": {
        "colab": {
          "base_uri": "https://localhost:8080/"
        },
        "id": "PwqpBmYr69fu",
        "outputId": "7147e6cc-7027-4f84-d909-7eaf6f189772"
      },
      "outputs": [
        {
          "name": "stdout",
          "output_type": "stream",
          "text": [
            "Writing stressTest.cpp\n"
          ]
        }
      ],
      "source": [
        "%%writefile stressTest.cpp\n",
        "#include <iostream>\n",
        "#include <vector>\n",
        "#include <algorithm>\n",
        "#include <cstdlib>\n",
        "\n",
        "long long MaxPairwiseProduct(const std::vector<int>& numbers) {\n",
        "    long long max_product = 0LL;\n",
        "\t  long long aux_product = 0LL;\n",
        "    int n = numbers.size();\n",
        "\n",
        "    for (int first = 0; first < n; ++first) {\n",
        "        for (int second = first + 1; second < n; ++second) {\n",
        "\t\t\t       aux_product =  (long long) numbers[first] * numbers[second];\n",
        "            if ( max_product < aux_product)  {\n",
        "\t\t\t\t        max_product = aux_product;\n",
        "             }\n",
        "        }\n",
        "    }\n",
        "\n",
        "    return max_product;\n",
        "}\n",
        "\n",
        "long long MaxPairwiseProductFast(const std::vector<int>& numbers){\n",
        "  int n = numbers.size();\n",
        "\n",
        "  int max_index1 = -1;\n",
        "  for(int i = 0; i < n; ++i){\n",
        "    if ((max_index1 == -1) || (numbers[i]>numbers[max_index1]))\n",
        "      max_index1 = i;\n",
        "  }\n",
        "\n",
        "  int max_index2 = -1;\n",
        "  for(int j = 0; j < n;++j)\n",
        "    if ((j != max_index1) && ((max_index2 == -1) || (numbers[j]>numbers[max_index2])))\n",
        "      max_index2= j;\n",
        "\n",
        "  return ((long long)(numbers[max_index1]))*numbers[max_index2];\n",
        "}\n",
        "\n",
        "int main() {\n",
        "    int k = 0;\n",
        "    while(k < 20){\n",
        "      int n = rand() % 20 + 2;\n",
        "      std::cout << n << '\\n';\n",
        "      std::vector<int> a;\n",
        "      for(int i = 0; i < n; ++i){\n",
        "        a.push_back(rand() % 100000);\n",
        "      }\n",
        "      for(int i = 0; i < n; ++i){\n",
        "        std::cout << a[i] << ' ';\n",
        "      }\n",
        "      std::cout << \"\\n\";\n",
        "      long long res1 = MaxPairwiseProduct(a);\n",
        "      long long res2 = MaxPairwiseProductFast(a);\n",
        "      if (res1 != res2){\n",
        "        std::cout << \"Wrong answer: \" << res1 << ' ' << res2 << \"\\n\";\n",
        "        break;\n",
        "      }\n",
        "      else {\n",
        "        std::cout << \"ok\\n\";\n",
        "      }\n",
        "      ++k;\n",
        "    }\n",
        "    /*\n",
        "    int n;\n",
        "    std::cin >> n;\n",
        "    std::vector<int> numbers(n);\n",
        "    for (int i = 0; i < n; ++i) {\n",
        "        std::cin >> numbers[i];\n",
        "    }\n",
        "    \n",
        "    std::cout << MaxPairwiseProduct(numbers) << \"\\n\";\n",
        "    */\n",
        "    return 0;\n",
        "}\n"
      ]
    },
    {
      "cell_type": "code",
      "execution_count": null,
      "metadata": {
        "colab": {
          "base_uri": "https://localhost:8080/"
        },
        "id": "SeQWfMy9UAhM",
        "outputId": "80e8d1f1-154c-494f-8f65-d159d1df885f"
      },
      "outputs": [
        {
          "name": "stdout",
          "output_type": "stream",
          "text": [
            "5\n",
            "30886 92777 36915 47793 38335 \n",
            "ok\n",
            "8\n",
            "60492 16649 41421 2362 90027 68690 20059 97763 \n",
            "ok\n",
            "8\n",
            "80540 83426 89172 55736 5211 95368 2567 56429 \n",
            "ok\n",
            "4\n",
            "21530 22862 65123 74067 \n",
            "ok\n",
            "17\n",
            "13929 79802 34022 23058 33069 98167 61393 18456 75011 78042 76229 77373 84421 44919 13784 98537 75198 \n",
            "ok\n",
            "6\n",
            "98315 64370 66413 3526 76091 68980 \n",
            "ok\n",
            "18\n",
            "41873 6862 99170 6996 97281 2305 20925 77084 36327 60336 26505 50846 21729 61313 25857 16124 53895 19582 \n",
            "ok\n",
            "7\n",
            "98814 33367 15434 90364 44043 13750 71087 \n",
            "ok\n",
            "10\n",
            "17276 47178 95788 93584 5403 2651 92754 12399 99932 95060 \n",
            "ok\n",
            "18\n",
            "93368 47739 10012 36226 98586 48094 97539 40795 80570 51434 60378 97467 66601 10097 12902 73317 70492 26652 \n",
            "ok\n",
            "18\n",
            "97301 60280 24286 9441 53865 29689 28444 46619 58440 44729 58031 8117 38097 5771 34481 90675 20709 98927 \n",
            "ok\n",
            "9\n",
            "77856 79497 72353 54586 76965 55306 64683 6219 28624 \n",
            "ok\n",
            "10\n",
            "32871 5732 48829 9503 30019 58270 63368 59708 86715 26340 \n",
            "ok\n",
            "11\n",
            "47796 723 42618 2245 22846 93451 92921 43555 92379 97488 37764 \n",
            "ok\n",
            "10\n",
            "69841 92350 65193 41500 57034 87764 70124 24914 36987 75856 \n",
            "ok\n",
            "5\n",
            "46491 22227 48365 9859 81936 \n",
            "ok\n",
            "14\n",
            "52551 16437 99228 53275 75407 1474 76121 68858 94395 36029 61237 8235 73793 65818 \n",
            "ok\n",
            "10\n",
            "66143 31011 35928 39529 18776 22404 64443 55763 14613 54538 \n",
            "ok\n",
            "8\n",
            "36840 2904 44818 35128 70688 97369 67917 69917 \n",
            "ok\n",
            "18\n",
            "43324 87743 59470 12183 98490 95499 89772 6725 85644 55590 17505 68139 2954 69786 7669 38082 8542 88464 \n",
            "ok\n"
          ]
        }
      ],
      "source": [
        "!g++ stressTest.cpp -o stressTest\n",
        "!./stressTest\n"
      ]
    },
    {
      "cell_type": "markdown",
      "metadata": {
        "id": "9z9yr5QkeyJF"
      },
      "source": [
        "### Test 4  time test  measure the execution time running with the the largest worst case file (200000 increasing numbers, 200000 and 200000 the end) "
      ]
    },
    {
      "cell_type": "code",
      "execution_count": null,
      "metadata": {
        "colab": {
          "base_uri": "https://localhost:8080/"
        },
        "id": "oLiMjbAIfPlX",
        "outputId": "ccd6335a-6e08-4f96-96f8-6baabbabbd80"
      },
      "outputs": [
        {
          "name": "stdout",
          "output_type": "stream",
          "text": [
            "Writing Test2Write.cpp\n"
          ]
        }
      ],
      "source": [
        "%%writefile Test2Write.cpp\n",
        "\n",
        "#include <iostream>\n",
        "#include <fstream>\n",
        "#include <cstdlib>\n",
        "\n",
        "using namespace std;\n",
        "\n",
        "int main() {\n",
        "  // Create and open a text file\n",
        "  ofstream MyFile(\"input3.txt\");\n",
        "\n",
        " MyFile << 200000 <<\"\\n\";  // n \n",
        " for (int i=1; i < 200001; i++){\n",
        "     MyFile << i <<\" \";\n",
        " }\n",
        "  \n",
        "  // Close the file\n",
        "  MyFile.close();\n",
        "}"
      ]
    },
    {
      "cell_type": "code",
      "execution_count": null,
      "metadata": {
        "id": "EH25TkOkZfD9"
      },
      "outputs": [],
      "source": [
        "!g++ Test2Write.cpp -o Test2Write\n",
        "!./Test2Write"
      ]
    },
    {
      "cell_type": "markdown",
      "metadata": {
        "id": "JB6f03qO-lj9"
      },
      "source": [
        "Measure time\n",
        "\n",
        "https://askubuntu.com/questions/53444/how-can-i-measure-the-execution-time-of-a-terminal-process"
      ]
    },
    {
      "cell_type": "code",
      "execution_count": null,
      "metadata": {
        "colab": {
          "base_uri": "https://localhost:8080/"
        },
        "id": "6p2QLEr576zk",
        "outputId": "df3d8325-e788-4f04-cac3-3aa6600ef0ee"
      },
      "outputs": [
        {
          "name": "stdout",
          "output_type": "stream",
          "text": [
            "39999800000\n",
            "\n",
            "real\t2m18.563s\n",
            "user\t2m17.499s\n",
            "sys\t0m0.031s\n"
          ]
        }
      ],
      "source": [
        "!g++ max_pairwise_product_long.cpp -o max_pairwise_product_long\n",
        "!time ./max_pairwise_product_long < input3.txt"
      ]
    },
    {
      "cell_type": "markdown",
      "metadata": {
        "id": "AmZeB2wYjxy5"
      },
      "source": [
        "##### Calculate  the number of instructions executed by the algorithm as a function of n, add in each line a comment with the number of instructions that are executed in that line \n",
        "\n",
        "```cpp\n",
        " int main() {                         //N inst exec by line executed  \n",
        "   \n",
        "    int n;                            //1                      \n",
        "    std::cin >> n;                    //1\n",
        "                                              \n",
        "    std::vector<int> numbers(n);      //n    init vector\n",
        "    .\n",
        "    .\n",
        " }\n",
        "\n",
        "```"
      ]
    },
    {
      "cell_type": "code",
      "execution_count": null,
      "metadata": {
        "colab": {
          "base_uri": "https://localhost:8080/"
        },
        "id": "djGX3FL13g9b",
        "outputId": "6980a860-52f1-471e-a072-e546fc7fd09c"
      },
      "outputs": [
        {
          "name": "stdout",
          "output_type": "stream",
          "text": [
            "Writing test_init_vectors.cpp\n"
          ]
        }
      ],
      "source": [
        "%%writefile test_init_vectors.cpp\n",
        "#include <iostream>\n",
        "#include <vector>\n",
        "#include <algorithm>\n",
        "int main() {                                                               \n",
        "    int n = 10;                           //1\n",
        "    std::vector<int> numbers(n);          //n                                  \n",
        "    for (int i = 0; i < n; ++i) {         //1+2n                                  \n",
        "        std::cout << numbers[i];          //n                                 \n",
        "    }\n",
        "\n",
        "    std::cout << \"\\n\";                    //1   \n",
        "    return 0;                                                              \n",
        "}                                         //1+n+1+2n+2+1  = O(n)"
      ]
    },
    {
      "cell_type": "code",
      "execution_count": null,
      "metadata": {
        "colab": {
          "base_uri": "https://localhost:8080/"
        },
        "id": "44gZcuE237-1",
        "outputId": "8a21f471-0a2e-4c49-e659-37d9c10bdc78"
      },
      "outputs": [
        {
          "name": "stdout",
          "output_type": "stream",
          "text": [
            "0000000000\n"
          ]
        }
      ],
      "source": [
        "!g++ test_init_vectors.cpp -o test_init_vectors\n",
        "!./test_init_vectors"
      ]
    },
    {
      "cell_type": "code",
      "execution_count": null,
      "metadata": {
        "colab": {
          "base_uri": "https://localhost:8080/"
        },
        "id": "uG6Mv-Pwlkii",
        "outputId": "195eac6f-4121-46ed-8e08-351688fc6969"
      },
      "outputs": [
        {
          "name": "stdout",
          "output_type": "stream",
          "text": [
            "Overwriting max_pairwise_product_long.cpp\n"
          ]
        }
      ],
      "source": [
        "%%writefile max_pairwise_product_long.cpp\n",
        "#include <iostream>\n",
        "#include <vector>\n",
        "#include <algorithm>\n",
        "\n",
        "long long MaxPairwiseProduct(const std::vector<int>& numbers) {              //N inst exec by line executed \n",
        "    long long max_product = 0LL;                                             //1                                          \n",
        "\t  long long aux_product = 0LL;                                             //1 \n",
        "    int n = numbers.size();                                                  //1 \n",
        "                                                                             \n",
        "    for (int first = 0; first < n; ++first) {                                //1+2n  \n",
        "        for (int second = first + 1; second < n; ++second) {                 //n + (n-1)n \n",
        "\t\t\t       aux_product =  (long long) numbers[first] * numbers[second];    //(n-1)n/2 \n",
        "            if (max_product < aux_product)  {                                //(n-1)n/2 \n",
        "\t\t\t\t        max_product = aux_product;                                   //[0, (n-1)n/2] \n",
        "             }\n",
        "        }\n",
        "    }\n",
        "                                                                             // -------------- \n",
        "    return max_product;                                                      // 4 + 3n + [2(n-1)n, 2.5 (n-1)n] \n",
        "}\n",
        "\n",
        "int main() {                                              //N inst exec by line executed \n",
        "    int n;                                                //1  \n",
        "    std::cin >> n;                                        //1\n",
        "    std::vector<int> numbers(n);                          //n\n",
        "    for (int i = 0; i < n; ++i) {                         //1 + 2n\n",
        "        std::cin >> numbers[i];                           //n\n",
        "    }\n",
        "\n",
        "    std::cout << MaxPairwiseProduct(numbers) << \"\\n\";     //1 + 1  + 4 + 3n + [2(n-1)n, 2.5 (n-1)n]\n",
        "    return 0;                                             // -------------- \n",
        "}                                                         // 9 + 7n + [2(n-1)n, 2.5 (n-1)n]\n"
      ]
    },
    {
      "cell_type": "markdown",
      "metadata": {
        "id": "0vTsUg8OwcHs"
      },
      "source": [
        "Count executed intructions in code and verify with inputs 1, 2 and 3"
      ]
    },
    {
      "cell_type": "code",
      "execution_count": null,
      "metadata": {
        "colab": {
          "base_uri": "https://localhost:8080/"
        },
        "id": "CuRKkqQc137V",
        "outputId": "8b239efc-4c39-4fd3-92aa-95c4e08c0c3e"
      },
      "outputs": [
        {
          "name": "stdout",
          "output_type": "stream",
          "text": [
            "Overwriting max_pairwise_product_long_execints.cpp\n"
          ]
        }
      ],
      "source": [
        "%%writefile max_pairwise_product_long_execints.cpp\n",
        "#include <iostream>\n",
        "#include <vector>\n",
        "#include <algorithm>\n",
        "\n",
        "long long MaxPairwiseProduct(const std::vector<int>& numbers, long long &execints) {              //N inst exec by line executed \n",
        "    \n",
        "    long long m = 0LL;                                                       //1\n",
        "    \n",
        "    long long max_product = 0LL;                                             //1\n",
        "    execints++;\n",
        "\n",
        "\t  long long aux_product = 0LL;                                             //1\n",
        "    execints++;\n",
        "\n",
        "    int n = numbers.size();                                                  //1 \n",
        "    execints++;\n",
        "\n",
        "    execints++;                                                                         \n",
        "    for (int first = 0; first < n; ++first) {                                //1+2n  \n",
        "        execints += 2;\n",
        "\n",
        "        long long m = 0LL;\n",
        "\n",
        "        execints++;                                    \n",
        "        for (int second = first + 1; second < n; ++second) {                 //n+ (n-1)n \n",
        "            execints += 2;                                                \n",
        "\n",
        "\t\t\t      aux_product =  (long long) numbers[first] * numbers[second];    //(n-1)n/2 \n",
        "            execints++; \n",
        "\n",
        "            execints++; \n",
        "            if ( max_product < aux_product)  {                               //(n-1)n/2 \n",
        "                       \n",
        "\t\t\t\t        max_product = aux_product;                                   //[0, (n-1)n/2] \n",
        "                execints++; \n",
        "                m++;\n",
        "             }\n",
        "        }\n",
        "        //if ( (first <= 10) || (n- first <= 10)) std::cout << m << \"\\n\";\n",
        "    }\n",
        "                                                                            // -------------- \n",
        "    return max_product;                                                     // 4 + 3n + [2(n-1)n, 2.5 (n-1)n] \n",
        "}\n",
        "\n",
        "int main() {                                                 //N inst exec by line executed \n",
        "    long long execints =0LL;\n",
        "\n",
        "    int n;                                                   //1\n",
        "    execints++;                                                              \n",
        "    \n",
        "    std::cin >> n;                                           //1\n",
        "    execints++;\n",
        "\n",
        "    std::vector<int> numbers(n);                             //n\n",
        "    execints += n;\n",
        "    \n",
        "    execints++;\n",
        "    for (int i = 0; i < n; ++i) {                            //1 + 2n\n",
        "        execints += 2;\n",
        "\n",
        "        std::cin >> numbers[i];\n",
        "        execints++;                                          //n\n",
        "    }\n",
        "    \n",
        "    //std::cout << MaxPairwiseProduct(numbers) << \"\\n\";      //1 + 1  + 4 + 3n + [2(n-1)n, 2.5 (n-1)n]\n",
        "\n",
        "    execints++;\n",
        "    int M = MaxPairwiseProduct(numbers,execints);\n",
        "\n",
        "    execints++;\n",
        "    std::cout <<  execints << \"\\n\";                       \n",
        "    return 0;                                                // -------------- \n",
        "}                                                            // 9 + 7n + [2(n-1)n, 2.5 (n-1)n]"
      ]
    },
    {
      "cell_type": "code",
      "execution_count": null,
      "metadata": {
        "colab": {
          "base_uri": "https://localhost:8080/"
        },
        "id": "Kuvm1C05ly2a",
        "outputId": "97723dcc-455a-4c39-cb3d-54a22136ec11"
      },
      "outputs": [
        {
          "name": "stdout",
          "output_type": "stream",
          "text": [
            "289\n",
            "116\n",
            "80003672077\n"
          ]
        }
      ],
      "source": [
        "!g++ max_pairwise_product_long_execints.cpp -o max_pairwise_product_long_execints\n",
        "!./max_pairwise_product_long_execints < input1.txt\n",
        "!./max_pairwise_product_long_execints < input2.txt\n",
        "!./max_pairwise_product_long_execints < input3.txt"
      ]
    },
    {
      "cell_type": "markdown",
      "metadata": {
        "id": "L_uaamxeAHK7"
      },
      "source": [
        "The number of instructions executed by the algooirithm with a list of size $n$ is  \n",
        "\n",
        "$$T = 9 + 7n + [2(n-1)n, 2.5 (n-1)n]$$\n",
        "\n",
        "It depends on the size of the lists and  the order of the list.\n",
        "\n",
        "For the input1.txt \n",
        "```\n",
        "10\n",
        "1 2 3 4 5 6 7 8 9 10\n",
        "```\n",
        "$$T = 9 + 7(10) + 2(9)(10) +  9 + 5 + 4 + 3 + 2 + 2 + 2 + 2 + 1 + 0  = 289 $$\n",
        "\n",
        "For the input2.txt \n",
        "```\n",
        "6\n",
        "1 3 200000 9 200000 23\n",
        "```\n",
        "$$T = 9 + 7(6) + 2(5)(6)  +  2 + 1 + 2 + 0 + 0 + 0 = 116 $$\n",
        "\n",
        "\n",
        "For the input3.txt that is the worst case (n=200000 and list in incresing order)\n",
        "\n",
        "```\n",
        "200000\n",
        "1 2 3 4 5 6 7 8 9 10 ... 199998 199999 200000\n",
        "```\n",
        "\n",
        "$$\n",
        "\\begin{array}{ll}\n",
        "T &= 9 + 7(200000) + (2)(199999)(200000)  + (199999 +\n",
        "100000 + 66667 +50000 \\cdots 2 + 2 + 1)\\\\\n",
        "&= 80003672077  \\\\\n",
        "  &< 9 + 7(200000) + (2.5)(199999)(200000) \\\\\n",
        "  & = 100000900009\n",
        "\\end{array}\n",
        "  $$"
      ]
    },
    {
      "cell_type": "markdown",
      "metadata": {
        "id": "NXW7QkoBL6xH"
      },
      "source": [
        "Calculate estimated time by instruction and number of instructions by second"
      ]
    },
    {
      "cell_type": "code",
      "execution_count": null,
      "metadata": {
        "colab": {
          "base_uri": "https://localhost:8080/"
        },
        "id": "pKqB3i7dIxnc",
        "outputId": "49eadf57-a9c2-479a-a7cc-88f41baa2555"
      },
      "outputs": [
        {
          "data": {
            "text/plain": [
              "1.5999265618308827e-09"
            ]
          },
          "execution_count": 43,
          "metadata": {},
          "output_type": "execute_result"
        }
      ],
      "source": [
        "# Estimated time by instruction\n",
        "\n",
        "128/80003672077 \n"
      ]
    },
    {
      "cell_type": "code",
      "execution_count": null,
      "metadata": {
        "colab": {
          "base_uri": "https://localhost:8080/"
        },
        "id": "18N1ouqeMhE1",
        "outputId": "55b643eb-4504-4035-f2c0-c9f101656996"
      },
      "outputs": [
        {
          "data": {
            "text/plain": [
              "625028688.1015625"
            ]
          },
          "execution_count": 44,
          "metadata": {},
          "output_type": "execute_result"
        }
      ],
      "source": [
        "# Estimated number of instructions by second\n",
        "\n",
        "1/(128/80003672077) "
      ]
    },
    {
      "cell_type": "markdown",
      "metadata": {
        "id": "CQufozXLNJwO"
      },
      "source": [
        "### Efficient solution"
      ]
    },
    {
      "cell_type": "markdown",
      "metadata": {
        "id": "nLcKBwbU0QsE"
      },
      "source": [
        "[link text](https://)Add in each line a coment with the number of intstrcution that are executed in that line"
      ]
    },
    {
      "cell_type": "code",
      "execution_count": null,
      "metadata": {
        "colab": {
          "base_uri": "https://localhost:8080/"
        },
        "id": "knls5Fh3NSt_",
        "outputId": "e2605204-a416-44f1-da54-653c7a4f2036"
      },
      "outputs": [
        {
          "name": "stdout",
          "output_type": "stream",
          "text": [
            "Overwriting MaxPairwiseProductFast.cpp\n"
          ]
        }
      ],
      "source": [
        "%%writefile MaxPairwiseProductFast.cpp\n",
        "#include <iostream>\n",
        "#include <vector>\n",
        "#include <algorithm>\n",
        "#include <cstdlib>\n",
        "\n",
        "long long MaxPairwiseProductFast(const std::vector<int>& numbers){                      \n",
        "  int n = numbers.size();                                                                 //1\n",
        "  int max_index1 = -1;                                                                    //1\n",
        "  for(int i = 0; i < n; ++i){                                                             //1+n\n",
        "    if ((max_index1 == -1) || (numbers[i]>numbers[max_index1]))                           //2n\n",
        "      max_index1 = i;                                                                     //[1,n]\n",
        "  }                                                                                       //total = 3 + 3n + [1,n]\n",
        "\n",
        "  int max_index2 = -1;                                                                    //1\n",
        "  for(int j = 0; j < n;++j)                                                               //1+n\n",
        "    if ((j != max_index1) && ((max_index2 == -1) || (numbers[j]>numbers[max_index2])))    //n\n",
        "      max_index2= j;                                                                      //[1,n]\n",
        "\n",
        "  return ((long long)(numbers[max_index1]))*numbers[max_index2];                          //3      \n",
        "}                                                                                         //total = 5 + 2n + [1,n]\n",
        "\n",
        "int main() {\n",
        "    int n;                                                                                //1\n",
        "    std::cin >> n;                                                                        //1\n",
        "    std::vector<int> numbers(n);                                                          //1\n",
        "    for (int i = 0; i < n; ++i) {                                                         //1+n\n",
        "        std::cin >> numbers[i];                                                           //n  \n",
        "    }\n",
        "    \n",
        "    std::cout << MaxPairwiseProductFast(numbers) << \"\\n\";                                     //1\n",
        "\n",
        "    return 0;                                                                             //complexidad O(n)\n",
        "}"
      ]
    },
    {
      "cell_type": "markdown",
      "metadata": {
        "id": "-JCijbWxNSii"
      },
      "source": [
        "Test with inputs 1 and 2\n",
        "\n"
      ]
    },
    {
      "cell_type": "code",
      "execution_count": null,
      "metadata": {
        "colab": {
          "base_uri": "https://localhost:8080/"
        },
        "id": "TrTGAfqlNVXT",
        "outputId": "9820272a-f172-4816-ddf2-cf47f2ae8d47"
      },
      "outputs": [
        {
          "name": "stdout",
          "output_type": "stream",
          "text": [
            "90\n",
            "40000000000\n"
          ]
        }
      ],
      "source": [
        "!g++ MaxPairwiseProductFast.cpp -o MaxPairwiseProductFast\n",
        "!./MaxPairwiseProductFast < input1.txt\n",
        "!./MaxPairwiseProductFast < input2.txt\n",
        "\n"
      ]
    },
    {
      "cell_type": "markdown",
      "metadata": {
        "id": "PRX51wADNR8b"
      },
      "source": [
        "Test and time it with input 3"
      ]
    },
    {
      "cell_type": "code",
      "execution_count": null,
      "metadata": {
        "colab": {
          "base_uri": "https://localhost:8080/"
        },
        "id": "v4z7-Is_NRt7",
        "outputId": "d9e60c3b-e1da-439c-88f1-670a3b2f6e34"
      },
      "outputs": [
        {
          "name": "stdout",
          "output_type": "stream",
          "text": [
            "39999800000\n",
            "\n",
            "real\t0m0.064s\n",
            "user\t0m0.060s\n",
            "sys\t0m0.001s\n"
          ]
        }
      ],
      "source": [
        "!time ./MaxPairwiseProductFast < input3.txt\n"
      ]
    },
    {
      "cell_type": "markdown",
      "metadata": {
        "id": "rpdfs0_TNZJf"
      },
      "source": [
        "20 stress tests"
      ]
    },
    {
      "cell_type": "code",
      "execution_count": null,
      "metadata": {
        "colab": {
          "base_uri": "https://localhost:8080/"
        },
        "id": "Lu4tYcKzNcTT",
        "outputId": "834a1603-1eef-4551-b62f-4a20429a2b4b"
      },
      "outputs": [
        {
          "name": "stdout",
          "output_type": "stream",
          "text": [
            "Overwriting stressTest.cpp\n"
          ]
        }
      ],
      "source": [
        "%%writefile stressTest.cpp\n",
        "#include <iostream>\n",
        "#include <vector>\n",
        "#include <algorithm>\n",
        "#include <cstdlib>\n",
        "\n",
        "long long MaxPairwiseProduct(const std::vector<int>& numbers) {\n",
        "    long long max_product = 0LL;\n",
        "\t  long long aux_product = 0LL;\n",
        "    int n = numbers.size();\n",
        "\n",
        "    for (int first = 0; first < n; ++first) {\n",
        "        for (int second = first + 1; second < n; ++second) {\n",
        "\t\t\t       aux_product =  (long long) numbers[first] * numbers[second];\n",
        "            if ( max_product < aux_product)  {\n",
        "\t\t\t\t        max_product = aux_product;\n",
        "             }\n",
        "        }\n",
        "    }\n",
        "\n",
        "    return max_product;\n",
        "}\n",
        "\n",
        "long long MaxPairwiseProductFast(const std::vector<int>& numbers){\n",
        "  int n = numbers.size();\n",
        "\n",
        "  int max_index1 = -1;\n",
        "  for(int i = 0; i < n; ++i){\n",
        "    if ((max_index1 == -1) || (numbers[i]>numbers[max_index1]))\n",
        "      max_index1 = i;\n",
        "  }\n",
        "\n",
        "  int max_index2 = -1;\n",
        "  for(int j = 0; j < n;++j)\n",
        "    if ((j != max_index1) && ((max_index2 == -1) || (numbers[j]>numbers[max_index2])))\n",
        "      max_index2= j;\n",
        "\n",
        "  return ((long long)(numbers[max_index1]))*numbers[max_index2];\n",
        "}\n",
        "\n",
        "int main() {\n",
        "    int k = 0;\n",
        "    while(k < 20){\n",
        "      int n = rand() % 20 + 2;\n",
        "      std::cout << n << '\\n';\n",
        "      std::vector<int> a;\n",
        "      for(int i = 0; i < n; ++i){\n",
        "        a.push_back(rand() % 100000);\n",
        "      }\n",
        "      for(int i = 0; i < n; ++i){\n",
        "        std::cout << a[i] << ' ';\n",
        "      }\n",
        "      std::cout << \"\\n\";\n",
        "      long long res1 = MaxPairwiseProduct(a);\n",
        "      long long res2 = MaxPairwiseProductFast(a);\n",
        "      if (res1 != res2){\n",
        "        std::cout << \"Wrong answer: \" << res1 << ' ' << res2 << \"\\n\";\n",
        "        break;\n",
        "      }\n",
        "      else {\n",
        "        std::cout << \"ok\\n\";\n",
        "      }\n",
        "      ++k;\n",
        "    }\n",
        "    /*\n",
        "    int n;\n",
        "    std::cin >> n;\n",
        "    std::vector<int> numbers(n);\n",
        "    for (int i = 0; i < n; ++i) {\n",
        "        std::cin >> numbers[i];\n",
        "    }\n",
        "    \n",
        "    std::cout << MaxPairwiseProduct(numbers) << \"\\n\";\n",
        "    */\n",
        "    return 0;\n",
        "}\n"
      ]
    },
    {
      "cell_type": "code",
      "execution_count": null,
      "metadata": {
        "colab": {
          "base_uri": "https://localhost:8080/"
        },
        "id": "hsE8gVU3Kq6u",
        "outputId": "c3ee8001-9ccc-4860-e709-811dc19ea812"
      },
      "outputs": [
        {
          "name": "stdout",
          "output_type": "stream",
          "text": [
            "5\n",
            "30886 92777 36915 47793 38335 \n",
            "ok\n",
            "8\n",
            "60492 16649 41421 2362 90027 68690 20059 97763 \n",
            "ok\n",
            "8\n",
            "80540 83426 89172 55736 5211 95368 2567 56429 \n",
            "ok\n",
            "4\n",
            "21530 22862 65123 74067 \n",
            "ok\n",
            "17\n",
            "13929 79802 34022 23058 33069 98167 61393 18456 75011 78042 76229 77373 84421 44919 13784 98537 75198 \n",
            "ok\n",
            "6\n",
            "98315 64370 66413 3526 76091 68980 \n",
            "ok\n",
            "18\n",
            "41873 6862 99170 6996 97281 2305 20925 77084 36327 60336 26505 50846 21729 61313 25857 16124 53895 19582 \n",
            "ok\n",
            "7\n",
            "98814 33367 15434 90364 44043 13750 71087 \n",
            "ok\n",
            "10\n",
            "17276 47178 95788 93584 5403 2651 92754 12399 99932 95060 \n",
            "ok\n",
            "18\n",
            "93368 47739 10012 36226 98586 48094 97539 40795 80570 51434 60378 97467 66601 10097 12902 73317 70492 26652 \n",
            "ok\n",
            "18\n",
            "97301 60280 24286 9441 53865 29689 28444 46619 58440 44729 58031 8117 38097 5771 34481 90675 20709 98927 \n",
            "ok\n",
            "9\n",
            "77856 79497 72353 54586 76965 55306 64683 6219 28624 \n",
            "ok\n",
            "10\n",
            "32871 5732 48829 9503 30019 58270 63368 59708 86715 26340 \n",
            "ok\n",
            "11\n",
            "47796 723 42618 2245 22846 93451 92921 43555 92379 97488 37764 \n",
            "ok\n",
            "10\n",
            "69841 92350 65193 41500 57034 87764 70124 24914 36987 75856 \n",
            "ok\n",
            "5\n",
            "46491 22227 48365 9859 81936 \n",
            "ok\n",
            "14\n",
            "52551 16437 99228 53275 75407 1474 76121 68858 94395 36029 61237 8235 73793 65818 \n",
            "ok\n",
            "10\n",
            "66143 31011 35928 39529 18776 22404 64443 55763 14613 54538 \n",
            "ok\n",
            "8\n",
            "36840 2904 44818 35128 70688 97369 67917 69917 \n",
            "ok\n",
            "18\n",
            "43324 87743 59470 12183 98490 95499 89772 6725 85644 55590 17505 68139 2954 69786 7669 38082 8542 88464 \n",
            "ok\n"
          ]
        }
      ],
      "source": [
        "!g++ stressTest.cpp -o stressTest\n",
        "!./stressTest"
      ]
    },
    {
      "cell_type": "markdown",
      "metadata": {
        "id": "L8U4151JNbxk"
      },
      "source": [
        "Count executed instructions in code and verify with inputs 1,2 and 3\n"
      ]
    },
    {
      "cell_type": "code",
      "execution_count": null,
      "metadata": {
        "colab": {
          "base_uri": "https://localhost:8080/"
        },
        "id": "dh85RM8vNhFz",
        "outputId": "8c8b7f20-ed82-42c7-a2ee-a85e73be7635"
      },
      "outputs": [
        {
          "name": "stdout",
          "output_type": "stream",
          "text": [
            "Overwriting MaxPairwiseProductFastexecint.cpp\n"
          ]
        }
      ],
      "source": [
        "%%writefile MaxPairwiseProductFastexecint.cpp\n",
        "#include <iostream>\n",
        "#include <vector>\n",
        "#include <algorithm>\n",
        "#include <cstdlib>\n",
        "\n",
        "long long MaxPairwiseProductFast(const std::vector<int>& numbers, long long &execints){                      \n",
        "  int n = numbers.size();                                                                 //1\n",
        "  execints++;\n",
        "\n",
        "  int max_index1 = -1;                                                                    //1\n",
        "  execints++;\n",
        "\n",
        "  execints++;\n",
        "  for(int i = 0; i < n; ++i){                                                             //1+2n\n",
        "    execints += 2;\n",
        "\n",
        "    execints += 2;\n",
        "    if ((max_index1 == -1) || (numbers[i]>numbers[max_index1]))                           //2n\n",
        "      max_index1 = i;                                                                     //[1,n]\n",
        "      execints++;\n",
        "  }                                                                                       //total = 3 + 4n + [1,n]\n",
        "\n",
        "  int max_index2 = -1;                                                                    //1\n",
        "  execints++;\n",
        "\n",
        "  execints++;\n",
        "  for(int j = 0; j < n;++j){                                                              //1+2n\n",
        "    execints += 2;\n",
        "    execints += 3;\n",
        "    if ((j != max_index1) && ((max_index2 == -1) || (numbers[j]>numbers[max_index2])))    //[2n,3n]\n",
        "      max_index2= j;                                                                      //[1,n]\n",
        "      execints++;\n",
        "  }\n",
        "  execints+=3;\n",
        "  return ((long long)(numbers[max_index1]))*numbers[max_index2];                          //3      \n",
        "}                                                                                         //total = 5 + 2n + [2n,3n] + [1,n]\n",
        "\n",
        "int main() {\n",
        "    long long execints =0LL;\n",
        "    int n;                                                                                //1\n",
        "    execints++;\n",
        "    std::cin >> n;                                                                        //1\n",
        "    execints++;\n",
        "    std::vector<int> numbers(n);                                                          //1\n",
        "    execints++;\n",
        "    execints++;\n",
        "    for (int i = 0; i < n; ++i) {                                                         //1+2n\n",
        "        execints+=2;\n",
        "        std::cin >> numbers[i];                                                           //n \n",
        "        execints++;\n",
        "                                                                  \n",
        "    }\n",
        "                                                                                          //total =  4 + 3n\n",
        "    std::cout << MaxPairwiseProductFast(numbers,execints) << \"\\n\";  \n",
        "    execints++;                                                                           //1\n",
        "    std::cout << \"instructions executed: \" << execints << \"\\n\";\n",
        "   //std::cout <<  execints << \"\\n\";                       \n",
        "                                                                                          //13 + 9n + [2n,3n] + [1,n] + [1,n]\n",
        "    return 0;                                                                             //complexidad O(n)\n",
        "}"
      ]
    },
    {
      "cell_type": "code",
      "execution_count": null,
      "metadata": {
        "colab": {
          "base_uri": "https://localhost:8080/"
        },
        "id": "7veiuXR1a_ak",
        "outputId": "269be830-1514-4cd2-c8a5-5d5d2345dc9a"
      },
      "outputs": [
        {
          "name": "stdout",
          "output_type": "stream",
          "text": [
            "90\n",
            "instructions executed: 153\n",
            "40000000000\n",
            "instructions executed: 97\n",
            "39999800000\n",
            "instructions executed: 2800013\n"
          ]
        }
      ],
      "source": [
        "!g++ MaxPairwiseProductFastexecint.cpp -o MaxPairwiseProductFastexecint\n",
        "!./MaxPairwiseProductFastexecint < input1.txt\n",
        "!./MaxPairwiseProductFastexecint < input2.txt\n",
        "!./MaxPairwiseProductFastexecint < input3.txt"
      ]
    },
    {
      "cell_type": "markdown",
      "metadata": {
        "id": "K6ybgCmpNygr"
      },
      "source": [
        "Calculate estimated time by instruction and number of instructions by second"
      ]
    },
    {
      "cell_type": "code",
      "execution_count": null,
      "metadata": {
        "colab": {
          "base_uri": "https://localhost:8080/"
        },
        "id": "kwe3G1O3Nz1w",
        "outputId": "42fdf2fa-cf8d-490c-cd61-ddd09b3cc645"
      },
      "outputs": [
        {
          "data": {
            "text/plain": [
              "2.285703673518659e-09"
            ]
          },
          "execution_count": 78,
          "metadata": {},
          "output_type": "execute_result"
        }
      ],
      "source": [
        "0.0064/2800013"
      ]
    },
    {
      "cell_type": "code",
      "execution_count": null,
      "metadata": {
        "colab": {
          "base_uri": "https://localhost:8080/"
        },
        "id": "67QkVYAMh3ZW",
        "outputId": "a9109a4c-31b4-4cb3-c70a-e3d3df0e4180"
      },
      "outputs": [
        {
          "data": {
            "text/plain": [
              "437502031.24999994"
            ]
          },
          "execution_count": 79,
          "metadata": {},
          "output_type": "execute_result"
        }
      ],
      "source": [
        "1/(0.0064/2800013)"
      ]
    },
    {
      "cell_type": "markdown",
      "metadata": {
        "id": "sc9nOLQrfTm0"
      },
      "source": [
        "### Super efficient solution\n",
        "\n",
        "Whitout storing the list in memory and whitout calling a function, add in each line a coment with the number of intstrcution that are executed in that line "
      ]
    },
    {
      "cell_type": "code",
      "execution_count": null,
      "metadata": {
        "colab": {
          "base_uri": "https://localhost:8080/"
        },
        "id": "hBLt_xBQLy8E",
        "outputId": "d2d8380b-96f2-4a7e-ae1f-42800572b17e"
      },
      "outputs": [
        {
          "name": "stdout",
          "output_type": "stream",
          "text": [
            "Overwriting max_pairwise_product_super.cpp\n"
          ]
        }
      ],
      "source": [
        "%%writefile max_pairwise_product_super.cpp\n",
        "#include <iostream>\n",
        "\n",
        "int main() {\n",
        "    int n;                                            //1\n",
        "    std::cin >> n;                                    //1\n",
        "\n",
        "    long long max1 = -1, max2 = -1;                   //2          \n",
        "    for (int i = 0; i < n; ++i) {                     //1+2n\n",
        "        long long num;                                //n\n",
        "        std::cin >> num;                              //n+1\n",
        "\n",
        "        if (num > max1) {                             //n\n",
        "            max2 = max1;                              //n\n",
        "            max1 = num;                               //n\n",
        "        } else if (num > max2) {                      //n \n",
        "            max2 = num;                               //n\n",
        "        }\n",
        "    }\n",
        "\n",
        "    long long max_product = max1 * max2;               //1\n",
        "    std::cout << max_product << std::endl;             //2\n",
        "\n",
        "    return 0;\n",
        "}\n"
      ]
    },
    {
      "cell_type": "markdown",
      "metadata": {
        "id": "683gc3roHqzb"
      },
      "source": [
        "Test with inputs 1 and 2\n",
        "\n",
        "\n",
        " "
      ]
    },
    {
      "cell_type": "code",
      "execution_count": null,
      "metadata": {
        "colab": {
          "base_uri": "https://localhost:8080/"
        },
        "id": "b7d4LA8OIc2_",
        "outputId": "b6297e9f-eaec-4e54-8981-94c9db23c3a5"
      },
      "outputs": [
        {
          "name": "stdout",
          "output_type": "stream",
          "text": [
            "90\n",
            "40000000000\n"
          ]
        }
      ],
      "source": [
        "!g++ max_pairwise_product_super.cpp -o max_pairwise_product_super\n",
        "!./max_pairwise_product_super < input1.txt\n",
        "!./max_pairwise_product_super < input2.txt"
      ]
    },
    {
      "cell_type": "markdown",
      "metadata": {
        "id": "36Ugn1odIeJz"
      },
      "source": [
        "Test and time it with input 3"
      ]
    },
    {
      "cell_type": "code",
      "execution_count": null,
      "metadata": {
        "colab": {
          "base_uri": "https://localhost:8080/"
        },
        "id": "jDyMbCnxHqSN",
        "outputId": "fc09a690-16d9-4bb5-de40-50f135eada23"
      },
      "outputs": [
        {
          "name": "stdout",
          "output_type": "stream",
          "text": [
            "39999800000\n",
            "\n",
            "real\t0m0.057s\n",
            "user\t0m0.054s\n",
            "sys\t0m0.002s\n"
          ]
        }
      ],
      "source": [
        "!time ./max_pairwise_product_super < input3.txt"
      ]
    },
    {
      "cell_type": "markdown",
      "metadata": {
        "id": "bhqiKQG6fjKM"
      },
      "source": [
        "20 stress tests "
      ]
    },
    {
      "cell_type": "code",
      "execution_count": null,
      "metadata": {
        "colab": {
          "base_uri": "https://localhost:8080/"
        },
        "id": "8zys5buvxvcs",
        "outputId": "ca8abb5f-b463-4f8c-cf3d-2e88e61e8bf8"
      },
      "outputs": [
        {
          "name": "stdout",
          "output_type": "stream",
          "text": [
            "Overwriting super_stress_test.cpp\n"
          ]
        }
      ],
      "source": [
        "%%writefile super_stress_test.cpp\n",
        "#include <iostream>\n",
        "#include <cstdlib>\n",
        "#include <ctime>\n",
        "#include <vector>\n",
        "\n",
        "long long max_pairwise_product(int n, const std::vector<long long>& numbers) {\n",
        "    long long max1 = -1, max2 = -1;\n",
        "    for (int i = 0; i < n; ++i) {\n",
        "        long long num = numbers[i];\n",
        "\n",
        "        if (num > max1) {\n",
        "            max2 = max1;\n",
        "            max1 = num;\n",
        "        } else if (num > max2) {\n",
        "            max2 = num;\n",
        "        }\n",
        "    }\n",
        "\n",
        "    return max1 * max2;\n",
        "}\n",
        "\n",
        "int main() {\n",
        "    const int num_tests = 20;\n",
        "    const int max_n = 11;\n",
        "    const long long max_element = 100;\n",
        "\n",
        "    std::srand(std::time(0));\n",
        "\n",
        "    for (int test = 1; test <= num_tests; ++test) {\n",
        "        int n = std::rand() % max_n + 1;\n",
        "        std::vector<long long> numbers(n);\n",
        "\n",
        "        for (int i = 0; i < n; ++i) {\n",
        "            numbers[i] = std::rand() % max_element;\n",
        "        }\n",
        "\n",
        "        long long max_product = max_pairwise_product(n, numbers);\n",
        "        std::cout << \"Test \" << test << \": Max pairwise product = \" << max_product << std::endl;\n",
        "    }\n",
        "\n",
        "    return 0;\n",
        "}\n"
      ]
    },
    {
      "cell_type": "code",
      "execution_count": null,
      "metadata": {
        "colab": {
          "base_uri": "https://localhost:8080/"
        },
        "id": "aen1sRemyC87",
        "outputId": "ff392496-7e0b-4969-eebf-6a903abc6796"
      },
      "outputs": [
        {
          "name": "stdout",
          "output_type": "stream",
          "text": [
            "Test 1: Max pairwise product = 8835\n",
            "Test 2: Max pairwise product = 6370\n",
            "Test 3: Max pairwise product = 7476\n",
            "Test 4: Max pairwise product = 6984\n",
            "Test 5: Max pairwise product = 598\n",
            "Test 6: Max pairwise product = 96\n",
            "Test 7: Max pairwise product = 2209\n",
            "Test 8: Max pairwise product = 4505\n",
            "Test 9: Max pairwise product = 5986\n",
            "Test 10: Max pairwise product = 5760\n",
            "Test 11: Max pairwise product = -95\n",
            "Test 12: Max pairwise product = 5040\n",
            "Test 13: Max pairwise product = 3016\n",
            "Test 14: Max pairwise product = 8836\n",
            "Test 15: Max pairwise product = 9312\n",
            "Test 16: Max pairwise product = 7125\n",
            "Test 17: Max pairwise product = 5550\n",
            "Test 18: Max pairwise product = 7896\n",
            "Test 19: Max pairwise product = 7225\n",
            "Test 20: Max pairwise product = 3233\n"
          ]
        }
      ],
      "source": [
        "!g++ super_stress_test.cpp -o super_stress_test\n",
        "!./super_stress_test"
      ]
    },
    {
      "cell_type": "markdown",
      "metadata": {
        "id": "fEXj8GHJH5p1"
      },
      "source": [
        "Count executed instructions in code and verify with inputs 1,2 and 3"
      ]
    },
    {
      "cell_type": "code",
      "execution_count": null,
      "metadata": {
        "colab": {
          "base_uri": "https://localhost:8080/"
        },
        "id": "LF1DHjKXIAsF",
        "outputId": "724565dc-7d55-42e7-f72a-dfe869914799"
      },
      "outputs": [
        {
          "name": "stdout",
          "output_type": "stream",
          "text": [
            "Writing max_pairwise_product_super_exec.cpp\n"
          ]
        }
      ],
      "source": [
        "%%writefile max_pairwise_product_super_exec.cpp\n",
        "#include <iostream>\n",
        "\n",
        "int main() {\n",
        "    long long execints=0LL;\n",
        "    int n;                                            //1\n",
        "    execints++;\n",
        "    std::cin >> n;                                    //1\n",
        "    execints++;\n",
        "\n",
        "    long long max1 = -1, max2 = -1;                   //2   \n",
        "    execints+=2;       \n",
        "    execints++;\n",
        "    for (int i = 0; i < n; ++i) {                     //1+2n\n",
        "        execints+=2;\n",
        "        long long num;                                //n\n",
        "        execints++;\n",
        "        std::cin >> num;                              //n\n",
        "        execints++;\n",
        "        execints++;\n",
        "        if (num > max1) {                             //n\n",
        "            execints++;\n",
        "            max2 = max1;                              //n\n",
        "            execints++;\n",
        "            max1 = num;                               //n\n",
        "            execints++;\n",
        "        } else if (num > max2) {                      //n \n",
        "            execints++;\n",
        "            max2 = num;                               //n\n",
        "        }\n",
        "    }\n",
        "\n",
        "    long long max_product = max1 * max2;               //1\n",
        "    execints++;\n",
        "    std::cout << max_product << std::endl;             //2\n",
        "    execints+=2;\n",
        "    std::cout << \"instructions executed: \" << execints << \"\\n\";\n",
        "\n",
        "    return 0;\n",
        "}"
      ]
    },
    {
      "cell_type": "code",
      "execution_count": null,
      "metadata": {
        "colab": {
          "base_uri": "https://localhost:8080/"
        },
        "id": "nKExsGRGzaCu",
        "outputId": "b66bff44-21de-4a65-8ea7-55b1c6be60b7"
      },
      "outputs": [
        {
          "name": "stdout",
          "output_type": "stream",
          "text": [
            "90\n",
            "instructions executed: 88\n",
            "40000000000\n",
            "instructions executed: 49\n",
            "39999800000\n",
            "instructions executed: 1600008\n"
          ]
        }
      ],
      "source": [
        "!g++ max_pairwise_product_super_exec.cpp -o max_pairwise_product_super_exec\n",
        "!./max_pairwise_product_super_exec < input1.txt\n",
        "!./max_pairwise_product_super_exec < input2.txt\n",
        "!./max_pairwise_product_super_exec < input3.txt"
      ]
    },
    {
      "cell_type": "markdown",
      "metadata": {
        "id": "yae7sSm2IG9U"
      },
      "source": [
        "Calculate estimated time by instruction and number of instructions by second"
      ]
    },
    {
      "cell_type": "code",
      "execution_count": null,
      "metadata": {
        "colab": {
          "base_uri": "https://localhost:8080/"
        },
        "id": "RHlkCpsIz6YZ",
        "outputId": "1a059c3c-6c0b-49aa-fe5c-a0f9d1218b6f"
      },
      "outputs": [
        {
          "name": "stdout",
          "output_type": "stream",
          "text": [
            "39999800000\n",
            "instructions executed: 1600008\n",
            "\n",
            "real\t0m0.061s\n",
            "user\t0m0.058s\n",
            "sys\t0m0.002s\n"
          ]
        }
      ],
      "source": [
        "!time ./max_pairwise_product_super_exec < input3.txt"
      ]
    },
    {
      "cell_type": "code",
      "execution_count": null,
      "metadata": {
        "colab": {
          "base_uri": "https://localhost:8080/"
        },
        "id": "suouY7BYL2dz",
        "outputId": "c4f130c4-f132-4f64-8916-1e954ef3fff7"
      },
      "outputs": [
        {
          "data": {
            "text/plain": [
              "3.8124809375953124e-09"
            ]
          },
          "execution_count": 106,
          "metadata": {},
          "output_type": "execute_result"
        }
      ],
      "source": [
        "0.0061/1600008"
      ]
    },
    {
      "cell_type": "code",
      "execution_count": null,
      "metadata": {
        "colab": {
          "base_uri": "https://localhost:8080/"
        },
        "id": "yQPohYii0FtI",
        "outputId": "868d6976-04fa-4829-a676-09f16256b4ac"
      },
      "outputs": [
        {
          "data": {
            "text/plain": [
              "262296393.44262293"
            ]
          },
          "execution_count": 107,
          "metadata": {},
          "output_type": "execute_result"
        }
      ],
      "source": [
        "1/(0.0061/1600008)"
      ]
    },
    {
      "cell_type": "markdown",
      "metadata": {
        "id": "LkVxxlhl9H98"
      },
      "source": [
        "# Codeforces problem https://codeforces.com/contest/1619/problem/A \n",
        "\n",
        "Solve the problem in Colab, submit the solution to Codeforces and add a screenshoot of the submission."
      ]
    },
    {
      "cell_type": "code",
      "execution_count": null,
      "metadata": {
        "colab": {
          "base_uri": "https://localhost:8080/"
        },
        "id": "ofgRTq6C1QQr",
        "outputId": "a3fbb83b-21eb-4c7b-9463-9d3e414a237e"
      },
      "outputs": [
        {
          "name": "stdout",
          "output_type": "stream",
          "text": [
            "Writing is_square.cpp\n"
          ]
        }
      ],
      "source": [
        "%%writefile is_square.cpp\n",
        "#include <iostream>\n",
        "#include <string>\n",
        "\n",
        "bool is_square(const std::string& s) {\n",
        "    int len = s.length();\n",
        "    if (len % 2 != 0) {\n",
        "        return false;\n",
        "    }\n",
        "\n",
        "    int mid = len / 2;\n",
        "    for (int i = 0; i < mid; ++i) {\n",
        "        if (s[i] != s[mid + i]) {\n",
        "            return false;\n",
        "        }\n",
        "    }\n",
        "\n",
        "    return true;\n",
        "}\n",
        "\n",
        "int main() {\n",
        "    int t;\n",
        "    std::cin >> t;\n",
        "\n",
        "    for (int i = 0; i < t; ++i) {\n",
        "        std::string s;\n",
        "        std::cin >> s;\n",
        "\n",
        "        if (is_square(s)) {\n",
        "            std::cout << \"YES\" << std::endl;\n",
        "        } else {\n",
        "            std::cout << \"NO\" << std::endl;\n",
        "        }\n",
        "    }\n",
        "\n",
        "    return 0;\n",
        "}\n"
      ]
    },
    {
      "cell_type": "code",
      "execution_count": null,
      "metadata": {
        "colab": {
          "base_uri": "https://localhost:8080/"
        },
        "id": "JEgKNKDu1SM3",
        "outputId": "cfe034a9-4cf6-4517-a396-18510eaf5bcf"
      },
      "outputs": [
        {
          "name": "stdout",
          "output_type": "stream",
          "text": [
            "Writing tests.txt\n"
          ]
        }
      ],
      "source": [
        "\n",
        "%%writefile tests.txt\n",
        "10\n",
        "a\n",
        "aa\n",
        "aaa\n",
        "aaaa\n",
        "abab\n",
        "abcabc\n",
        "abacaba\n",
        "xxyy\n",
        "xyyx\n",
        "xyxy"
      ]
    },
    {
      "cell_type": "code",
      "execution_count": null,
      "metadata": {
        "colab": {
          "base_uri": "https://localhost:8080/"
        },
        "id": "HOc1vcQB1n8Y",
        "outputId": "a7a29c4a-19af-45d1-a5eb-7ed6dc3fe860"
      },
      "outputs": [
        {
          "name": "stdout",
          "output_type": "stream",
          "text": [
            "NO\n",
            "YES\n",
            "NO\n",
            "YES\n",
            "YES\n",
            "YES\n",
            "NO\n",
            "NO\n",
            "NO\n",
            "YES\n"
          ]
        }
      ],
      "source": [
        "!g++ is_square.cpp -o is_square\n",
        "!./is_square < tests.txt"
      ]
    },
    {
      "cell_type": "code",
      "execution_count": null,
      "metadata": {
        "colab": {
          "base_uri": "https://localhost:8080/"
        },
        "id": "ZpV1OM_o2N_j",
        "outputId": "203bb3d3-bdea-4086-ed6a-539b35a3cd0a"
      },
      "outputs": [
        {
          "name": "stdout",
          "output_type": "stream",
          "text": [
            "Using built-in specs.\n",
            "COLLECT_GCC=g++\n",
            "COLLECT_LTO_WRAPPER=/usr/lib/gcc/x86_64-linux-gnu/9/lto-wrapper\n",
            "OFFLOAD_TARGET_NAMES=nvptx-none:hsa\n",
            "OFFLOAD_TARGET_DEFAULT=1\n",
            "Target: x86_64-linux-gnu\n",
            "Configured with: ../src/configure -v --with-pkgversion='Ubuntu 9.4.0-1ubuntu1~20.04.1' --with-bugurl=file:///usr/share/doc/gcc-9/README.Bugs --enable-languages=c,ada,c++,go,brig,d,fortran,objc,obj-c++,gm2 --prefix=/usr --with-gcc-major-version-only --program-suffix=-9 --program-prefix=x86_64-linux-gnu- --enable-shared --enable-linker-build-id --libexecdir=/usr/lib --without-included-gettext --enable-threads=posix --libdir=/usr/lib --enable-nls --enable-clocale=gnu --enable-libstdcxx-debug --enable-libstdcxx-time=yes --with-default-libstdcxx-abi=new --enable-gnu-unique-object --disable-vtable-verify --enable-plugin --enable-default-pie --with-system-zlib --with-target-system-zlib=auto --enable-objc-gc=auto --enable-multiarch --disable-werror --with-arch-32=i686 --with-abi=m64 --with-multilib-list=m32,m64,mx32 --enable-multilib --with-tune=generic --enable-offload-targets=nvptx-none=/build/gcc-9-Av3uEd/gcc-9-9.4.0/debian/tmp-nvptx/usr,hsa --without-cuda-driver --enable-checking=release --build=x86_64-linux-gnu --host=x86_64-linux-gnu --target=x86_64-linux-gnu\n",
            "Thread model: posix\n",
            "gcc version 9.4.0 (Ubuntu 9.4.0-1ubuntu1~20.04.1) \n"
          ]
        }
      ],
      "source": [
        "!g++ -v"
      ]
    },
    {
      "cell_type": "markdown",
      "metadata": {
        "id": "BvwX2tqG2-VP"
      },
      "source": [
        "![image.png](data:image/png;base64,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)"
      ]
    },
    {
      "cell_type": "markdown",
      "metadata": {
        "id": "W7mX2MV13IDn"
      },
      "source": [
        "![image.png](data:image/png;base64,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)"
      ]
    },
    {
      "cell_type": "code",
      "execution_count": null,
      "metadata": {
        "id": "9EfCj0K83IjV"
      },
      "outputs": [],
      "source": []
    }
  ],
  "metadata": {
    "colab": {
      "provenance": []
    },
    "kernelspec": {
      "display_name": "Python 3",
      "name": "python3"
    },
    "language_info": {
      "name": "python"
    }
  },
  "nbformat": 4,
  "nbformat_minor": 0
}
