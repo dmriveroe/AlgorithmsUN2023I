{
  "nbformat": 4,
  "nbformat_minor": 0,
  "metadata": {
    "colab": {
      "provenance": []
    },
    "kernelspec": {
      "name": "python3",
      "display_name": "Python 3"
    },
    "language_info": {
      "name": "python"
    }
  },
  "cells": [
    {
      "cell_type": "markdown",
      "metadata": {
        "id": "9fIs_70_DJWM"
      },
      "source": [
        "# 2.(2.5  nanoseconds by instruction)\n",
        "\n",
        "Asuuming that you can execute a 400 million instructions $400 \\times 10^6$ every second, i.e. each instrcution takes 2.5  nanoseconds, 2.5 $\\eta s  = 2.5 \\times 10^{-9} s$. If you have algorithms take $\\bf{ Time\\ Complexity}$ steps to solve a problem of size $n$ as specified in column one. What is the size of the largest problem that you can solve in the time specified in row one?\n",
        "$$\n",
        "\\begin{array}{|c|c|c|c|c|c|c|c|} \n",
        " \\hline\n",
        " \\bf{ Time\\ Complexity} & Second  & Minute  & Hour & Day & Year & Century & Mileniun  \\\\ \n",
        "  \\hline\\\\ \n",
        "\\lg(n) & 2^{2.5 × 10^{9}} &  2^{60 × 2.5 × 10^{9}} & 2^{3.6 × 2.5 × 10^{11}} & 2^{8.64 × 2.5 × 10^{13}} & 2^{3.1536 × 2.5×10^{16}} & 2^{3.1536 × 2.5×10^{18}} &  2^{3.1536 ×2.5×10^{21}}\\\\ \n",
        "   \\hline\\\\ \n",
        "\\lg^2(n) & 2^{50000}& 2^{ 387298 } & 2^{ 3000000 } & 2^{ 14696938 } & 2^{ 280784615 } & 2^{ 2807846150 } & 2^{ 88791891522 } \\\\ \n",
        "   \\hline\\\\ \n",
        "\\sqrt{n} & 6.25 × 10^{18} & 2.25 × 10^{22} & 8.1 × 10^{25} & 4.6656 × 10^{28} & 6.2157456 × 10^{33} & 6.2157456 × 10^{37} & 6.2157456 × 10^{43} \\\\ \n",
        " \\hline\n",
        " n & 2.5 × 10^{9} & 1.5 × 10^{11} & 9 × 10^{12} & 2.16 × 10^{14} & 7.884 × 10^{16} & 7.884 × 10^{18} & 7.884 × 10^{21} \\\\ \n",
        " \\hline\n",
        " n\\lg(n) &  9.4368799 × 10^{7}  &  4.66988019 × 10^{9}  & 2.38139247 × 10^{11} & 5.11627318 × 10^{12} & 1.5620432 × 10^{15} & 1.38456172 × 10^{17} & 1.18235944 × 10^{20} \\\\ \n",
        " \\hline\n",
        " n^2 &   50000 & 387298  & 3000000 & 14696938 & 280784615 & 2807846150 & 88791891522 \\\\ \n",
        " \\hline\n",
        "  n^3 &  1357  & 5313  & 20801 & 60000 & 428794 & 1990286 & 19902862 \\\\ \n",
        " \\hline\n",
        "  n^4 &  224  & 622  & 1732 & 3834 & 16757 & 52989 & 297980 \\\\ \n",
        " \\hline\n",
        "  2^n & 31   &  37 & 43 & 47  & 56 & 62 & 72  \\\\ \n",
        " \\hline\n",
        " n! &  12  &  14 & 15 & 16 & 18 & 20 & 22 \\\\ \n",
        " \\hline\n",
        " n^n &  9  &  10 & 12 & 12 & 14 & 15 & 17 \\\\ \n",
        " \\hline\n",
        "\\end{array}\n",
        "$$\n"
      ]
    },
    {
      "cell_type": "markdown",
      "source": [
        "$\\bf{ Time\\ Complexity\\ \\lg(n) }$\n",
        "\n",
        "$Second$\n",
        "$$ \\lg(n) \\times 2.5 \\times 10^{-9}\\ s\\le 1\\ s$$ \n",
        "$$ \\lg(n) \\le 2.5 * 10^{9}$$ \n",
        "$$ 2^{\\lg(n)} \\le 2^{2.5 \\times 10^{9}}$$ \n",
        "$$ n \\le 2^{2.5 \\times10^{9}}$$ \n"
      ],
      "metadata": {
        "id": "m_56CgrGk-6o"
      }
    },
    {
      "cell_type": "markdown",
      "source": [
        "$\\bf{ Time\\ Complexity\\ \\lg^2(n) }$\n",
        "\n",
        "$Second$\n",
        "$$ \\lg^2(n) \\times 2.5 \\times 10^{-9} \\ s\\le 1\\ s$$ \n",
        "$$ \\lg(n) \\le \\sqrt{2.5 * 10^{9} }$$ \n",
        "$$ 2^{\\lg(n)} \\le 2^{\\sqrt{2.5 * 10^{9} }}$$ \n",
        "$$ n \\le 2^{50000}$$ \n"
      ],
      "metadata": {
        "id": "lqmkh1XPlw3R"
      }
    },
    {
      "cell_type": "markdown",
      "source": [
        "$\\bf{ Time\\ Complexity\\ \\sqrt{n} }$\n",
        "\n",
        "$Second$\n",
        "$$  \\sqrt{n}  \\times 2.5 \\times 10^{-9} \\ s\\le 1\\ s$$ \n",
        "$$  \\sqrt{n}  \\le 2.5 \\times 10^{9}  $$\n",
        "$$  n \\le   6.5 \\times10^{18}$$ "
      ],
      "metadata": {
        "id": "SMp8Sg_yml6f"
      }
    },
    {
      "cell_type": "markdown",
      "source": [
        "$\\bf{ Time\\ Complexity\\ n }$\n",
        "\n",
        "$Second$\n",
        "$$  n  \\times 2.5 \\times 10^{-9} \\ s\\le 1\\ s$$ \n",
        "$$  n \\le  2.5 \\times 10^{9} $$ \n"
      ],
      "metadata": {
        "id": "24xKvi-zm-ir"
      }
    },
    {
      "cell_type": "markdown",
      "source": [
        "$\\bf{ Time\\ Complexity\\ n\\lg{n} }$\n",
        "\n",
        "$Second$\n",
        "$$   n\\lg{n}  \\times 10^{-9} \\ s\\le 1\\ s$$ \n",
        "$$   n\\lg{n} \\le 9.436 \\times 10^{7} $$ "
      ],
      "metadata": {
        "id": "zyJU5q3inICs"
      }
    },
    {
      "cell_type": "markdown",
      "source": [
        "$\\bf{ Time\\ Complexity\\ n^2}$\n",
        "\n",
        "$Second$\n",
        "$$  n^2 \\times 2.5 \\times 10^{-9} \\ s\\le 1\\ s$$ \n",
        "$$  n^2 \\le  2.5 \\times 10^{9} $$ \n",
        "$$ \\sqrt{n^2} \\le \\sqrt{2.5 \\times 10^{9} }$$ \n",
        "$$ n \\le 50000 $$ "
      ],
      "metadata": {
        "id": "o5FG3ylwnme1"
      }
    },
    {
      "cell_type": "markdown",
      "source": [
        "$\\bf{ Time\\ Complexity\\ n^3 }$\n",
        "\n",
        "$Second$\n",
        "$$  n^3 \\times 2.5 \\times 10^{-9} \\ s\\le 1\\ s$$ \n",
        "$$  n^3 \\le 2.5 \\times 10^{9} $$ \n",
        "$$ \\sqrt[4]{n^3} \\le \\sqrt[3]{2.5 \\times 10^{9} }$$ \n",
        "$$ n \\le  1357 $$ "
      ],
      "metadata": {
        "id": "PhrIH0lTn1yW"
      }
    },
    {
      "cell_type": "markdown",
      "source": [
        "$\\bf{ Time\\ Complexity\\ n^4 }$\n",
        "\n",
        "$Second$\n",
        "$$  n^4 \\times 2.5 \\times 10^{-9} \\ s\\le 1\\ s$$ \n",
        "$$  n^4 \\le 2.5 \\times 10^{9} $$ \n",
        "$$ \\sqrt[4]{n^4} \\le \\sqrt[4]{2.5 \\times 10^{9} }$$ \n",
        "$$ n \\le  224 $$ "
      ],
      "metadata": {
        "id": "iBgFZaJpoEtr"
      }
    },
    {
      "cell_type": "markdown",
      "source": [
        "$\\bf{ Time\\ Complexity\\ 2^n }$\n",
        "\n",
        "$Second$\n",
        "$$  2^n  \\times 2.5 \\times 10^{-9} \\ s\\le 1\\ s$$ \n",
        "$$  2^n \\le  2.5 \\times 10^{9} $$ \n",
        "$$  \\lg(2^n) \\le  \\lg(2.5 \\times 10^{9} )$$ \n",
        "$$  n \\le  \\lg(2.5 \\times 10^{9} ) = 31 $$"
      ],
      "metadata": {
        "id": "2QHNzPG4oYDT"
      }
    },
    {
      "cell_type": "markdown",
      "source": [
        "$\\bf{ Time\\ Complexity\\ n! }$\n",
        "\n",
        "$Second$\n",
        "$$  n!  \\times 2.5 \\times 10^{-9} \\ s\\le 1\\ s$$ \n",
        "$$  n! \\le 2.5 \\times  10^{9} $$ \n",
        "$$  n \\le  12 $$"
      ],
      "metadata": {
        "id": "rMAvSpvspEes"
      }
    },
    {
      "cell_type": "markdown",
      "source": [
        "$\\bf{ Time\\ Complexity\\ n^n }$\n",
        "\n",
        "$Second$\n",
        "$$  n^n  \\times 2.5 \\times 10^{9} \\ s\\le 1\\ s$$ \n",
        "$$  n^n \\le 2.5 \\times 10^{9} $$ \n",
        "$$  n \\le  9 $$ "
      ],
      "metadata": {
        "id": "FyJpePT9pTwI"
      }
    }
  ]
}